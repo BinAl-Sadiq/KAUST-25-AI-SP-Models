{
 "cells": [
  {
   "cell_type": "code",
   "execution_count": null,
   "metadata": {
    "collapsed": true,
    "execution": {
     "iopub.execute_input": "2025-07-15T10:47:00.139080Z",
     "iopub.status.busy": "2025-07-15T10:47:00.138530Z",
     "iopub.status.idle": "2025-07-15T10:48:14.661166Z",
     "shell.execute_reply": "2025-07-15T10:48:14.659985Z",
     "shell.execute_reply.started": "2025-07-15T10:47:00.139052Z"
    },
    "jupyter": {
     "outputs_hidden": true
    },
    "trusted": true
   },
   "outputs": [],
   "source": [
    "pip install transformers datasets accelerate torchaudio yt_dlp"
   ]
  },
  {
   "cell_type": "code",
   "execution_count": null,
   "metadata": {
    "_cell_guid": "b1076dfc-b9ad-4769-8c92-a6c4dae69d19",
    "_uuid": "8f2839f25d086af736a60e9eeb907d3b93b6e0e5",
    "execution": {
     "iopub.execute_input": "2025-07-15T10:48:14.663942Z",
     "iopub.status.busy": "2025-07-15T10:48:14.663286Z",
     "iopub.status.idle": "2025-07-15T10:48:42.750538Z",
     "shell.execute_reply": "2025-07-15T10:48:42.749904Z",
     "shell.execute_reply.started": "2025-07-15T10:48:14.663902Z"
    },
    "trusted": true
   },
   "outputs": [],
   "source": [
    "import yt_dlp\n",
    "import nbformat as nbf\n",
    "import os\n",
    "import torch\n",
    "from transformers import AutoTokenizer, AutoModelForCausalLM, pipeline\n",
    "from kaggle_secrets import UserSecretsClient\n",
    "from huggingface_hub import login\n"
   ]
  },
  {
   "cell_type": "code",
   "execution_count": null,
   "metadata": {
    "execution": {
     "iopub.execute_input": "2025-07-16T06:13:37.208317Z",
     "iopub.status.busy": "2025-07-16T06:13:37.207655Z",
     "iopub.status.idle": "2025-07-16T06:14:13.252763Z",
     "shell.execute_reply": "2025-07-16T06:14:13.252109Z",
     "shell.execute_reply.started": "2025-07-16T06:13:37.208289Z"
    },
    "trusted": true
   },
   "outputs": [],
   "source": [
    "\n",
    "def download_audio_with_ytdlp(youtube_url, output_audio_path=\"audio.mp3\"):\n",
    "    ydl_opts = {\n",
    "        'format': 'bestaudio/best',\n",
    "        'outtmpl': 'temp_audio.%(ext)s',\n",
    "        'postprocessors': [{\n",
    "            'key': 'FFmpegExtractAudio',\n",
    "            'preferredcodec': 'mp3',\n",
    "            'preferredquality': '192',\n",
    "        }],\n",
    "    }\n",
    "    with yt_dlp.YoutubeDL(ydl_opts) as ydl:\n",
    "        ydl.download([youtube_url])\n",
    "    os.rename(\"temp_audio.mp3\", output_audio_path)\n",
    "    return output_audio_path\n",
    "\n",
    "def transcribe_audio_whisper(audio_path):\n",
    "    whisper = pipeline(\"automatic-speech-recognition\", model=\"openai/whisper-small\", device=0 if torch.cuda.is_available() else -1)\n",
    "    result = whisper(audio_path, return_timestamps=True)\n",
    "    return result[\"text\"]\n",
    "\n",
    "\n",
    "youtube_link = \"https://youtu.be/yYALsys-P_w?si=MUMJ74ggsPW5PMu-\"\n",
    "audio_file = download_audio_with_ytdlp(youtube_link)\n",
    "text = transcribe_audio_whisper(audio_file)\n",
    "\n",
    "print(\"\\n--- TRANSCRIPTION ---\\n\")\n",
    "print(text)\n"
   ]
  },
  {
   "cell_type": "code",
   "execution_count": null,
   "metadata": {
    "execution": {
     "iopub.execute_input": "2025-07-16T05:45:15.666569Z",
     "iopub.status.busy": "2025-07-16T05:45:15.665894Z",
     "iopub.status.idle": "2025-07-16T05:45:15.944380Z",
     "shell.execute_reply": "2025-07-16T05:45:15.943825Z",
     "shell.execute_reply.started": "2025-07-16T05:45:15.666546Z"
    },
    "trusted": true
   },
   "outputs": [],
   "source": [
    "\n",
    "user_secrets = UserSecretsClient()\n",
    "token = user_secrets.get_secret(\"hugging-face-key\")\n",
    "\n",
    "login(token=token)\n",
    "\n"
   ]
  },
  {
   "cell_type": "code",
   "execution_count": null,
   "metadata": {
    "collapsed": true,
    "execution": {
     "iopub.execute_input": "2025-07-16T05:46:59.992164Z",
     "iopub.status.busy": "2025-07-16T05:46:59.991830Z",
     "iopub.status.idle": "2025-07-16T05:47:42.933438Z",
     "shell.execute_reply": "2025-07-16T05:47:42.932319Z",
     "shell.execute_reply.started": "2025-07-16T05:46:59.992144Z"
    },
    "jupyter": {
     "outputs_hidden": true
    },
    "trusted": true
   },
   "outputs": [],
   "source": [
    "\n",
    "model_id = \"google/gemma-2b-it\"\n",
    "\n",
    "tokenizer = AutoTokenizer.from_pretrained(model_id)\n",
    "model = AutoModelForCausalLM.from_pretrained(model_id, device_map=\"auto\", torch_dtype=torch.float16)"
   ]
  },
  {
   "cell_type": "code",
   "execution_count": null,
   "metadata": {
    "execution": {
     "iopub.execute_input": "2025-07-16T06:15:44.258509Z",
     "iopub.status.busy": "2025-07-16T06:15:44.258232Z",
     "iopub.status.idle": "2025-07-16T06:16:01.690231Z",
     "shell.execute_reply": "2025-07-16T06:16:01.689396Z",
     "shell.execute_reply.started": "2025-07-16T06:15:44.258489Z"
    },
    "trusted": true
   },
   "outputs": [],
   "source": [
    "# Example usage:\n",
    "youtube_link = \"https://youtu.be/yYALsys-P_w?si=MUMJ74ggsPW5PMu-\"\n",
    "audio_file = download_audio_with_ytdlp(youtube_link)\n",
    "text = transcribe_audio_whisper(audio_file)\n"
   ]
  },
  {
   "cell_type": "code",
   "execution_count": null,
   "metadata": {
    "execution": {
     "iopub.execute_input": "2025-07-16T06:18:27.653297Z",
     "iopub.status.busy": "2025-07-16T06:18:27.652660Z",
     "iopub.status.idle": "2025-07-16T06:18:39.754594Z",
     "shell.execute_reply": "2025-07-16T06:18:39.753878Z",
     "shell.execute_reply.started": "2025-07-16T06:18:27.653273Z"
    },
    "trusted": true
   },
   "outputs": [],
   "source": [
    "gemma = pipeline(\"text-generation\", model=model, tokenizer=tokenizer)\n",
    "\n",
    "prompt = f\"<bos><start_of_turn>user\\nMake a Coursera-style educational Jupyter Notebook on this topic: {text}\\nStart with:\\n1. A short **Summary** explaining the overall idea.\\n2. Clear breakdown of **Main Topics** with explanations and, when applicable, simple code examples.\\n3. End with a set of **Exercises**:\\n- Some questions where students need to **complete missing code** (use `____` as blanks).\\n- Some **theory questions** about the concepts explained.\\n\\nStructure headings like this:\\n# Summary\\n## Topic 1: ...\\n## Topic 2: ...\\n...\\n# Exercises\\n- [Code Completion]\\n- [Theory Question]\\n\\nKeep the tone friendly and instructional, like a Coursera or edX lab.\\n\\nUse Markdown and Python code cells just like in a real Jupyter Notebook.\\n<end_of_turn>\\n<start_of_turn>model\\n\"\n",
    "\n",
    "outputs = gemma(prompt, max_new_tokens=1200, do_sample=True, temperature=0.7)\n",
    "output_text = outputs[0][\"generated_text\"]\n",
    "notebook_content = output_text[len(prompt):]\n",
    "\n",
    "print(\"done\")"
   ]
  },
  {
   "cell_type": "code",
   "execution_count": null,
   "metadata": {
    "execution": {
     "iopub.execute_input": "2025-07-16T06:18:39.755865Z",
     "iopub.status.busy": "2025-07-16T06:18:39.755620Z",
     "iopub.status.idle": "2025-07-16T06:18:39.763563Z",
     "shell.execute_reply": "2025-07-16T06:18:39.763039Z",
     "shell.execute_reply.started": "2025-07-16T06:18:39.755846Z"
    },
    "trusted": true
   },
   "outputs": [],
   "source": [
    "\n",
    "nb = nbf.v4.new_notebook()\n",
    "cells = []\n",
    "\n",
    "# Split the content by '## ' heading (top-level sections) and create markdown cells\n",
    "sections = notebook_content.split(\"## \")\n",
    "for section in sections:\n",
    "    if not section.strip():\n",
    "        continue\n",
    "    # Add '## ' back for heading markdown syntax\n",
    "    section_text = \"## \" + section if not section.startswith(\"## \") else section\n",
    "    cells.append(nbf.v4.new_markdown_cell(section_text.strip()))\n",
    "\n",
    "nb['cells'] = cells\n",
    "\n",
    "with open('notebook.ipynb', 'w') as f:\n",
    "    nbf.write(nb, f)\n"
   ]
  },
  {
   "cell_type": "code",
   "execution_count": null,
   "metadata": {
    "trusted": true
   },
   "outputs": [],
   "source": []
  }
 ],
 "metadata": {
  "kaggle": {
   "accelerator": "gpu",
   "dataSources": [],
   "dockerImageVersionId": 31090,
   "isGpuEnabled": true,
   "isInternetEnabled": true,
   "language": "python",
   "sourceType": "notebook"
  },
  "kernelspec": {
   "display_name": "Python 3",
   "language": "python",
   "name": "python3"
  },
  "language_info": {
   "codemirror_mode": {
    "name": "ipython",
    "version": 3
   },
   "file_extension": ".py",
   "mimetype": "text/x-python",
   "name": "python",
   "nbconvert_exporter": "python",
   "pygments_lexer": "ipython3",
   "version": "3.11.13"
  }
 },
 "nbformat": 4,
 "nbformat_minor": 4
}
